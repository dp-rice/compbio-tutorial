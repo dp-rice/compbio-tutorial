{
 "cells": [
  {
   "cell_type": "markdown",
   "metadata": {},
   "source": [
    "# Astronaut Activity "
   ]
  },
  {
   "cell_type": "markdown",
   "metadata": {},
   "source": [
    "## CompBio Camp- February 2019\n",
    "\n",
    "### Authors: Lauren E. Blake and Daniel Rice"
   ]
  },
  {
   "cell_type": "markdown",
   "metadata": {},
   "source": [
    "We are going to be analyzing real data from NASA astronauts and then with data created for a mission to Mars adventure!\n",
    "\n",
    "NASA is very interested in the cardiovascular health of the astronauts. We are going to compare heart information of the astronauts on Earth (preflight) versus in space (in flight). "
   ]
  },
  {
   "cell_type": "markdown",
   "metadata": {},
   "source": [
    "## What does the data look like?"
   ]
  },
  {
   "cell_type": "markdown",
   "metadata": {},
   "source": [
    "1) Look at the data description. What are the units for heart rate?"
   ]
  },
  {
   "cell_type": "markdown",
   "metadata": {},
   "source": [
    "2) What does the acronym \"SV\" stand for? What are the units of \"SV\"?"
   ]
  },
  {
   "cell_type": "markdown",
   "metadata": {},
   "source": [
    "## What is the impact of spaceflight on heart rate?"
   ]
  },
  {
   "cell_type": "markdown",
   "metadata": {},
   "source": [
    "1) Find at the preflight HR for astronaut 3 and astronaut 5. Which is greater? "
   ]
  },
  {
   "cell_type": "markdown",
   "metadata": {},
   "source": [
    "2) For astronaut 1, find the difference between the preflight and inflight heart rate. "
   ]
  },
  {
   "cell_type": "markdown",
   "metadata": {},
   "source": [
    "3) Repeat for astronauts 2-6. "
   ]
  },
  {
   "cell_type": "markdown",
   "metadata": {},
   "source": [
    "4) Find the average difference between preflight and inflight heart rate (n=6 astronauts)."
   ]
  },
  {
   "cell_type": "markdown",
   "metadata": {},
   "source": [
    "5) Plot HR in space (on the y-axis) versus HR preflight (on the x-axis). "
   ]
  },
  {
   "cell_type": "markdown",
   "metadata": {},
   "source": [
    "6) Using your answers for questions 2-4 and the plots, what is the impact of spaceflight on heart rate?"
   ]
  },
  {
   "cell_type": "markdown",
   "metadata": {},
   "source": [
    "7) For many of these questions, you could have calculated the answers by hand or with a caculator rather than written code to get the answers. Why is writing code to calculate these better? (Hints: What would have happened if there were 100 or 1000 astronauts rather than 6? What about the chance that you can catch an error when you use handcalculations versus progamming? What if you wanted to share your work with others?) "
   ]
  },
  {
   "cell_type": "markdown",
   "metadata": {},
   "source": [
    "## What is the cardiac output in space?"
   ]
  },
  {
   "cell_type": "markdown",
   "metadata": {},
   "source": [
    "1) Cardiac output (Q) is the product of HR and SV. SV must be in liters, so the unit of cardiac output is L/min. Calculate Q for each astronaut when they are in space. "
   ]
  },
  {
   "cell_type": "markdown",
   "metadata": {},
   "source": [
    "2) The normal cardiac output range is about 4 to 8 L/min. Are all the astronauts within this range?"
   ]
  },
  {
   "cell_type": "markdown",
   "metadata": {},
   "source": [
    "## Challenge: Mission to Mars\n",
    "\n",
    "The year is 2050, and we have received data for the first human voyage to Mars. We want to check the cardiovascular function of the humans headed to Mars. "
   ]
  },
  {
   "cell_type": "markdown",
   "metadata": {},
   "source": [
    "1) Find the number of humans in the dataset. "
   ]
  },
  {
   "cell_type": "markdown",
   "metadata": {},
   "source": [
    "2) The normal cardiac output range is about 4 to 8 L/min. We want to make sure that the voyager's hearts are pumping properly, and get an alert for the individuals that are out of range. Therefore, calculate cardiac output (Q) for each human. Print the subject number(s) of the individuals that are out of range (4-8 L/min). Which subjects are out of range?"
   ]
  },
  {
   "cell_type": "markdown",
   "metadata": {},
   "source": [
    "3) Plot cardiac output versus stroke volume. "
   ]
  },
  {
   "cell_type": "markdown",
   "metadata": {},
   "source": [
    "4) By looking at the plot, what happens to cardiac output as stroke volume increases?"
   ]
  },
  {
   "cell_type": "markdown",
   "metadata": {},
   "source": [
    "5) We will now fit a \"best fit\" line through the points on the plot (Q versus SV). To calculate the line, we will use package X. Calculate and report the slope and the y-intercept. "
   ]
  },
  {
   "cell_type": "markdown",
   "metadata": {},
   "source": [
    "6) Based on the sign of the slope, what happens to cardiac output as stroke volume increases? Does this match with your answer in question 4 above?"
   ]
  }
 ],
 "metadata": {
  "kernelspec": {
   "display_name": "Python 3",
   "language": "python",
   "name": "python3"
  },
  "language_info": {
   "codemirror_mode": {
    "name": "ipython",
    "version": 3
   },
   "file_extension": ".py",
   "mimetype": "text/x-python",
   "name": "python",
   "nbconvert_exporter": "python",
   "pygments_lexer": "ipython3",
   "version": "3.6.4"
  }
 },
 "nbformat": 4,
 "nbformat_minor": 2
}
