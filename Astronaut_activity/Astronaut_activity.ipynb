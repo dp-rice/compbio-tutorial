{
 "cells": [
  {
   "cell_type": "markdown",
   "metadata": {},
   "source": [
    "# Astronaut Activity "
   ]
  },
  {
   "cell_type": "markdown",
   "metadata": {},
   "source": [
    "## CompBio Camp- February 2019\n",
    "\n",
    "### Authors: Lauren E. Blake and Daniel P. Rice"
   ]
  },
  {
   "cell_type": "markdown",
   "metadata": {},
   "source": [
    "# <span style='color:blue'>*YOUR NAME HERE*</span>\n"
   ]
  },
  {
   "cell_type": "markdown",
   "metadata": {},
   "source": [
    "We are going to be analyzing real data from NASA astronauts and then with data created for a mission to Mars adventure!\n",
    "\n",
    "NASA is very interested in the cardiovascular health of the astronauts. We are going to compare heart information of the astronauts on Earth (preflight) versus in space (in flight). "
   ]
  },
  {
   "cell_type": "markdown",
   "metadata": {},
   "source": [
    "## What does the data look like?"
   ]
  },
  {
   "cell_type": "markdown",
   "metadata": {},
   "source": [
    "NASA provides the following data description:"
   ]
  },
  {
   "cell_type": "markdown",
   "metadata": {},
   "source": [
    "~~~~\n",
    "NASA’s Life Sciences Data Archive (http://lsda.jsc.nasa.gov)\n",
    "Investigator Name: Farhi, Leon \n",
    "Mission (Payload): STS-40 and STS-58 \n",
    "Experiment title (ID): Inflight Study of Cardiovascular Deconditioning (178066)\n",
    "\n",
    "    Variable:           Description:\n",
    "    Subject number      astronaut identifyer number\n",
    "    HR                  heart rate in beats/minute\n",
    "    SV                  stroke volume in mL\n",
    "~~~~"
   ]
  },
  {
   "cell_type": "markdown",
   "metadata": {},
   "source": [
    "1) Look at the data description. What are the units for heart rate?"
   ]
  },
  {
   "cell_type": "markdown",
   "metadata": {},
   "source": [
    "2) What does the acronym \"SV\" stand for? What are the units of \"SV\"? What do you think this measurement means?"
   ]
  },
  {
   "cell_type": "markdown",
   "metadata": {},
   "source": [
    "3) Making a hypothesis: what do you think happened to the astronauts' heart rate in space? Why? Discuss with your neighbor."
   ]
  },
  {
   "cell_type": "markdown",
   "metadata": {},
   "source": [
    "## Loading the data"
   ]
  },
  {
   "cell_type": "markdown",
   "metadata": {},
   "source": [
    "The data is stored in the file `astronaut_measurements.csv`. Our first step is to read the data from that file into the computer's memory so that we can do things with it. For that, we'll use the `loadtxt` function from `numpy`. Don't worry about the details of this function, just know that it reads a file and returns its contents as one or more `numpy` arrays. We'll store each series of measurements in its own array."
   ]
  },
  {
   "cell_type": "code",
   "execution_count": null,
   "metadata": {},
   "outputs": [],
   "source": [
    "import numpy as np\n",
    "(subject_number, \n",
    "    HR_preflight, \n",
    "    HR_inflight, \n",
    "    SV_preflight, \n",
    "    SV_inflight) = np.loadtxt('astronaut_measurements.csv', skiprows=1, unpack=True, delimiter=',')"
   ]
  },
  {
   "cell_type": "markdown",
   "metadata": {},
   "source": [
    "The first \"measurement\" is each astronaut's subject number. NASA doesn't report their names for privacy reasons. This is (thankfully) typical for data on human subjects."
   ]
  },
  {
   "cell_type": "code",
   "execution_count": null,
   "metadata": {},
   "outputs": [],
   "source": [
    "print(subject_number)"
   ]
  },
  {
   "cell_type": "markdown",
   "metadata": {},
   "source": [
    "The other measurements are heart rate (HR) and stroke volume (SV), each measured preflight and inflight. Print the preflight stroke volumes:"
   ]
  },
  {
   "cell_type": "code",
   "execution_count": null,
   "metadata": {},
   "outputs": [],
   "source": [
    "print(SV_preflight)"
   ]
  },
  {
   "cell_type": "markdown",
   "metadata": {},
   "source": [
    "How did you choose the right array to print?"
   ]
  },
  {
   "cell_type": "markdown",
   "metadata": {},
   "source": [
    "## What is the impact of spaceflight on heart rate?"
   ]
  },
  {
   "cell_type": "markdown",
   "metadata": {},
   "source": [
    "1) Find the preflight heart rate for Astronaut 3 and Astronaut 5. Which is greater? (Remember how indices work in python!)"
   ]
  },
  {
   "cell_type": "code",
   "execution_count": null,
   "metadata": {},
   "outputs": [],
   "source": []
  },
  {
   "cell_type": "markdown",
   "metadata": {},
   "source": [
    "2) For astronaut 1, find the difference between the preflight and inflight heart rate. Did this astronaut's heart rate increase or decrease in space?"
   ]
  },
  {
   "cell_type": "code",
   "execution_count": null,
   "metadata": {},
   "outputs": [],
   "source": []
  },
  {
   "cell_type": "markdown",
   "metadata": {},
   "source": [
    "3) Repeat (2) for astronauts 2-6. "
   ]
  },
  {
   "cell_type": "code",
   "execution_count": null,
   "metadata": {},
   "outputs": [],
   "source": []
  },
  {
   "cell_type": "markdown",
   "metadata": {},
   "source": [
    "4) Find the average difference between preflight and inflight heart rate."
   ]
  },
  {
   "cell_type": "code",
   "execution_count": null,
   "metadata": {},
   "outputs": [],
   "source": [
    "# Run this cell for a hint\n",
    "import codecs\n",
    "cipher_text = 'Hfr gur \"fhz\" shapgvba gb nqq gur ahzoref va na neenl.'\n",
    "hint = codecs.decode(cipher_text, 'rot_13')\n",
    "print(hint)"
   ]
  },
  {
   "cell_type": "code",
   "execution_count": null,
   "metadata": {},
   "outputs": [],
   "source": []
  },
  {
   "cell_type": "markdown",
   "metadata": {},
   "source": [
    "5) Now let's take a closer look at the data. We'll use the `scatter` function from matplotlib to make a scatterplot of the data. It works like this:"
   ]
  },
  {
   "cell_type": "code",
   "execution_count": null,
   "metadata": {},
   "outputs": [],
   "source": [
    "# Run this cell first to import the matplot library\n",
    "import matplotlib.pyplot as plt"
   ]
  },
  {
   "cell_type": "code",
   "execution_count": null,
   "metadata": {},
   "outputs": [],
   "source": [
    "# Make an array of the numbers from zero to nine\n",
    "x = np.arange(0,10)\n",
    "# Calculate y = x^2\n",
    "y = x**2\n",
    "# Make a scatterplot of x^2 vs x:\n",
    "plt.scatter(x, y, label=\"y = x^2\")\n",
    "\n",
    "\n",
    "# Compare y = x^2 with the line y = x\n",
    "y = x\n",
    "plt.plot(x, y, color='black', label=\"y = x\")\n",
    "\n",
    "# Make a figure legend\n",
    "plt.legend()"
   ]
  },
  {
   "cell_type": "markdown",
   "metadata": {},
   "source": [
    "How is `scatter` different from `plot`?"
   ]
  },
  {
   "cell_type": "markdown",
   "metadata": {},
   "source": [
    "__Make a scatterplot of HR in space (on the y-axis) versus HR preflight (on the x-axis).__ "
   ]
  },
  {
   "cell_type": "code",
   "execution_count": null,
   "metadata": {},
   "outputs": [],
   "source": [
    "# your code here\n"
   ]
  },
  {
   "cell_type": "markdown",
   "metadata": {},
   "source": [
    "For comparison, add a straight line to the plot that shows what the data would look like if the two heart rates were the same."
   ]
  },
  {
   "cell_type": "code",
   "execution_count": null,
   "metadata": {},
   "outputs": [],
   "source": [
    "# your code here\n"
   ]
  },
  {
   "cell_type": "markdown",
   "metadata": {},
   "source": [
    "6) Using your answers for questions 2-4 and the plots, what is the impact of spaceflight on heart rate?"
   ]
  },
  {
   "cell_type": "markdown",
   "metadata": {},
   "source": [
    "7) For many of these questions, you could have calculated the answers by hand or with a caculator rather than written code to get the answers. Why is writing code to calculate these better? (Hints: What would have happened if there were 100 or 1000 astronauts rather than 6? What about the chance that you can catch an error when you use handcalculations versus progamming? What if you wanted to share your work with others?) "
   ]
  },
  {
   "cell_type": "markdown",
   "metadata": {},
   "source": [
    "## What is the cardiac output in space?"
   ]
  },
  {
   "cell_type": "markdown",
   "metadata": {},
   "source": [
    "1) Cardiac output (Q) is heart rate (in **beats per minute**) times stroke volume (in **liters**). Calculate Q in **liters per minute** for each astronaut when they are in space. Make sure to use the correct units!"
   ]
  },
  {
   "cell_type": "code",
   "execution_count": null,
   "metadata": {},
   "outputs": [],
   "source": []
  },
  {
   "cell_type": "markdown",
   "metadata": {},
   "source": [
    "2) The normal cardiac output range is about 4 to 8 L/min. Are all the astronauts within this range?"
   ]
  },
  {
   "cell_type": "code",
   "execution_count": null,
   "metadata": {},
   "outputs": [],
   "source": []
  },
  {
   "cell_type": "markdown",
   "metadata": {},
   "source": [
    "**Challenge question:** The code you wrote above is perfectly fine if you only need to calculate cardiac output once. But what if you need to calculate it again for different heart rates and stroke volumes? For code that you want to use more than once, it's usually a good idea to define a *function*.\n",
    "\n",
    "Here's an example of how to define a new function. This function takes two number `a` and `b` and calculates their product `c = a * b`. We say that `a` and `b` are the _arguments_ of the function and that `c` is the _return value_."
   ]
  },
  {
   "cell_type": "code",
   "execution_count": null,
   "metadata": {},
   "outputs": [],
   "source": [
    "def product(a, b):\n",
    "    c = a*b\n",
    "    return c"
   ]
  },
  {
   "cell_type": "code",
   "execution_count": null,
   "metadata": {},
   "outputs": [],
   "source": [
    "# Our function can take numbers as arguments\n",
    "print(product(5, 3.7))\n",
    "\n",
    "# It can also take variables that contain numbers.\n",
    "# Note that the variable names don't have to match the arguments in the function definition\n",
    "x = 10\n",
    "y = 3\n",
    "print(product(x, y))"
   ]
  },
  {
   "cell_type": "markdown",
   "metadata": {},
   "source": [
    "Now, write your own function that takes heart rate and stroke volume as arguments and returns the cardiac output."
   ]
  },
  {
   "cell_type": "code",
   "execution_count": null,
   "metadata": {},
   "outputs": [],
   "source": [
    "# Complete this function definition\n",
    "def cardiac_output(): # Add arguments\n",
    "    # Calculations go here\n",
    "    return # Return value goes here"
   ]
  },
  {
   "cell_type": "markdown",
   "metadata": {},
   "source": [
    "Use your function to calculate the preflight and inflight cardiac output. Does the inflight rate output match what you calculated before?"
   ]
  },
  {
   "cell_type": "code",
   "execution_count": null,
   "metadata": {},
   "outputs": [],
   "source": [
    "# Your code here\n"
   ]
  },
  {
   "cell_type": "markdown",
   "metadata": {},
   "source": [
    "## Challenge: Mission to Mars\n",
    "\n",
    "The year is 2050, and we have received data for the first human voyage to Mars. We want to check the cardiovascular function of the humans headed to Mars. "
   ]
  },
  {
   "cell_type": "code",
   "execution_count": null,
   "metadata": {},
   "outputs": [],
   "source": [
    "(subject_number_mars, \n",
    "    HR_mars, \n",
    "    SV_mars) = np.loadtxt('mars_measurements.csv', unpack=True, delimiter=',')"
   ]
  },
  {
   "cell_type": "markdown",
   "metadata": {},
   "source": [
    "1) Find the number of humans in the dataset. "
   ]
  },
  {
   "cell_type": "code",
   "execution_count": null,
   "metadata": {},
   "outputs": [],
   "source": [
    "# Run this cell for a hint\n",
    "import codecs\n",
    "cipher_text = 'Hfr gur yra shapgvba'\n",
    "hint = codecs.decode(cipher_text, 'rot_13')\n",
    "print(hint)"
   ]
  },
  {
   "cell_type": "code",
   "execution_count": null,
   "metadata": {},
   "outputs": [],
   "source": []
  },
  {
   "cell_type": "markdown",
   "metadata": {},
   "source": [
    "2) The normal cardiac output range is about 4 to 8 L/min. We want to make sure that the voyager's hearts are pumping properly, and get an alert for the individuals that are out of range. **Calculate cardiac output (Q) for each human.** Print the subject number(s) of the individuals that are out of range (4-8 L/min). Which subjects are out of range?\n",
    "\n",
    "Hint: Use a `for` loop and conditional statements."
   ]
  },
  {
   "cell_type": "code",
   "execution_count": null,
   "metadata": {},
   "outputs": [],
   "source": []
  },
  {
   "cell_type": "markdown",
   "metadata": {},
   "source": [
    "3) Make a scatterplot cardiac output versus stroke volume. "
   ]
  },
  {
   "cell_type": "code",
   "execution_count": null,
   "metadata": {},
   "outputs": [],
   "source": []
  },
  {
   "cell_type": "markdown",
   "metadata": {},
   "source": [
    "4) By looking at the plot, what happens to cardiac output as stroke volume increases?"
   ]
  },
  {
   "cell_type": "markdown",
   "metadata": {},
   "source": [
    "5) We will now fit a \"best fit\" line through the points on the plot (Q versus SV). To calculate the line, we will use the `linregress` function. Recall that a line is defined by its slope and y-intercept (where it meets the y-axis). Run this code to calculate and report the slope and the y-intercept. "
   ]
  },
  {
   "cell_type": "code",
   "execution_count": null,
   "metadata": {},
   "outputs": [],
   "source": [
    "# First calculate Q for the mars data\n",
    "Q_mars = #"
   ]
  },
  {
   "cell_type": "code",
   "execution_count": null,
   "metadata": {},
   "outputs": [],
   "source": [
    "from scipy.stats import linregress\n",
    "# Find the best fit line\n",
    "slope, intercept, rvalue, pvalue, stderr = linregress(SV_mars, Q_mars)\n",
    "\n",
    "# Print the slope and y-intercept. The {0:.3f} tells print to only show the first three decimal places\n",
    "print('slope = {0:.3f}'.format(slope))\n",
    "print('y-intercept = {0:.3f}'.format(intercept))"
   ]
  },
  {
   "cell_type": "markdown",
   "metadata": {},
   "source": [
    "__Challenge:__ Remake the scatterplot from (3), but this time also plot the best-fit line that you've just calculated."
   ]
  },
  {
   "cell_type": "code",
   "execution_count": null,
   "metadata": {},
   "outputs": [],
   "source": []
  },
  {
   "cell_type": "markdown",
   "metadata": {},
   "source": [
    "6) Based on the sign of the slope, what happens to cardiac output as stroke volume increases? Does this match with your answer in question 4 above?"
   ]
  }
 ],
 "metadata": {
  "kernelspec": {
   "display_name": "Python 3",
   "language": "python",
   "name": "python3"
  },
  "language_info": {
   "codemirror_mode": {
    "name": "ipython",
    "version": 3
   },
   "file_extension": ".py",
   "mimetype": "text/x-python",
   "name": "python",
   "nbconvert_exporter": "python",
   "pygments_lexer": "ipython3",
   "version": "3.7.2"
  }
 },
 "nbformat": 4,
 "nbformat_minor": 2
}
