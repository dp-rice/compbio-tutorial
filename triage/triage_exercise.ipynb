{
 "cells": [
  {
   "cell_type": "markdown",
   "metadata": {},
   "source": [
    "# Mass-Casualty Triage Exercise\n",
    "## Compbio Tutorial - May 2019\n",
    "### Author: Eric Friedlander\n",
    "\n",
    "\n",
    "# <span style='color:blue'>*YOUR NAME HERE*</span>"
   ]
  },
  {
   "cell_type": "markdown",
   "metadata": {},
   "source": [
    "We are going to be examining how different patient admission policies over the course of a 12 hour (720 minute) mass-casualty event change patient survival! By finding the best policy in different scenarios we can more effectively provide treatment and save lives. First, we need to import several packages which will be helpful."
   ]
  },
  {
   "cell_type": "code",
   "execution_count": null,
   "metadata": {},
   "outputs": [],
   "source": [
    "# Import all necessary packages\n",
    "import numpy as np\n",
    "import matplotlib.pyplot as plt\n",
    "from triage_funcs import *"
   ]
  },
  {
   "cell_type": "markdown",
   "metadata": {},
   "source": [
    "## Patient Arrivals"
   ]
  },
  {
   "cell_type": "markdown",
   "metadata": {},
   "source": [
    "Patients arrive at the hospital at different times. It takes some time to get from the scene of the emergency to the hospital, so no one arrives right away. Because everyone’s in a hurry to see a doctor, no one takes many hours either. This curve shows the average number of patients that arrive at the hospital over time. There are two parameters: `num_pat` controls the number of patients expected on average and `peak` controls when we should expect the most arrivals. Try playing with the values inside the box of #'s and see how it changes the intensity curve (make sure to pay attention to the $y$-axis)."
   ]
  },
  {
   "cell_type": "code",
   "execution_count": null,
   "metadata": {},
   "outputs": [],
   "source": [
    "# Parameters for the curve\n",
    "##############\n",
    "num_pat = 30 #\n",
    "peak = 100   #\n",
    "##############\n",
    "\n",
    "plt.rcParams['figure.figsize'] = [10, 5]\n",
    "plot_arr_int(num_pat, peak)"
   ]
  },
  {
   "cell_type": "markdown",
   "metadata": {},
   "source": [
    "What would happen if the IMMEDIATE (orange) and DELAYED (blue) patients arrived in different ways? The cell below will generate plots of the average arrivals for both classes of patients. You can change the way the curves look by altering the following variables inside the box of #s:\n",
    "1. `numPatients` - controls the **TOTAL** number of patients\n",
    "2. `ratio` - the ratio of IMMEDIATE to DELAYED patients\n",
    "3. `peakI` - the time of the peak arrival intensity for IMMEDIATE class patients\n",
    "4. `peakD` - the time of the peak arrival intensity for DELAYED class patients"
   ]
  },
  {
   "cell_type": "code",
   "execution_count": null,
   "metadata": {},
   "outputs": [],
   "source": [
    "# Parameters for arrival processes\n",
    "###############################################################################################\n",
    "numPatients = 30 # Total number of patients on average                                        #\n",
    "ratio = 1/3 # Ratio of IMMEDIATE patients to DELAYED patients                                 #\n",
    "peakI = 270 # This parameter controls when the peak of arrivals is for IMMEDIATE patients     #\n",
    "peakD = 150 # This parameter controls when the peak of arrivals is for DELAYED patients       #\n",
    "###############################################################################################\n",
    "\n",
    "plot_arr_ints(numPatients, ratio, peakI, peakD)"
   ]
  },
  {
   "cell_type": "markdown",
   "metadata": {},
   "source": [
    "We can now use the computer to generate a sequence of arrivals. Run the cell below to see an example. Each simulated arrival is denoted by an x. Notice that you get different pictures every time you run it. Why is this? Where do the x's tend to fall?"
   ]
  },
  {
   "cell_type": "code",
   "execution_count": null,
   "metadata": {},
   "outputs": [],
   "source": [
    "plot_arrivals(numPatients, ratio, peakI, peakD)"
   ]
  },
  {
   "cell_type": "markdown",
   "metadata": {},
   "source": [
    "## Patient Survival\n",
    "What happens when we redirect a patient to another hospital? There is some probability that the patient may die before reaching the next hospital. To mimic this, we can use the computer to generate ***random numbers*** for us. If we give the computer a probability, it can flip a coin for us and tell us whether its heads (1) or tails (0). In our simulation, we can say that patients survive when a heads comes up. Why might we want the computer to do this? Why not just come up with the numbers ourselves? \n",
    "\n",
    "See if you can beat the mindreader: http://www.mindreaderpro.appspot.com/"
   ]
  },
  {
   "cell_type": "markdown",
   "metadata": {},
   "source": [
    "The cell below generates a sequence of random zeros and ones. Let's say that a one means a patient survives the trip to the next hospital and zeros means that they don't make it. The parameter `prob` represents the probability of survival. What happens when you increase `prob`? What do you think appropriate values of `prob` might be for our IMMEDIATE and DELAYED class patients."
   ]
  },
  {
   "cell_type": "code",
   "execution_count": null,
   "metadata": {},
   "outputs": [],
   "source": [
    "prob = .8 # parameter controlling the probability of survival\n",
    "np.random.binomial(1, prob, size = 30)"
   ]
  },
  {
   "cell_type": "markdown",
   "metadata": {},
   "source": [
    "## Putting It All Together\n",
    "Now we will take all of these inputs and run an actual simulation of a mass casualty event. Let's first walk through how a simulation might work with the following parameters:\n",
    "1. `ratio = 1/3`\n",
    "2. `peakI = 270`\n",
    "3. `peakD = 150`\n",
    "4. `probI = .4`\n",
    "5. `probD = .8`\n",
    "\n",
    "Run the cell below and following the direction!"
   ]
  },
  {
   "cell_type": "code",
   "execution_count": null,
   "metadata": {},
   "outputs": [],
   "source": [
    "sim_walkthrough()    "
   ]
  },
  {
   "cell_type": "markdown",
   "metadata": {},
   "source": [
    "Using the computer we can run this simulation MANY times. The parameter `num_reps` controls the number of times the simulation is run. We can also try out many different parameters.\n",
    "Try out some different parameters inside the box of #s and running the simulation below. Why might we want to run many simulations?"
   ]
  },
  {
   "cell_type": "code",
   "execution_count": null,
   "metadata": {},
   "outputs": [],
   "source": [
    "###############################################################################################\n",
    "# How many simulations to run                                                                 #\n",
    "num_reps = 1000                                                                               #\n",
    "                                                                                              #\n",
    "# Parameters for arrival processes                                                            #\n",
    "numPatients = 30 # Total number of patients on average                                        #\n",
    "ratio = 1/3 # Ratio of IMMEDIATE patients to DELAYED patients                                 #\n",
    "peakI = 270 # This parameter controls when the peak of arrivals is for IMMEDIATE patients     #\n",
    "peakD = 150 # This parameter controls when the peak of arrivals is for DELAYED patients       #                      #\n",
    "num_beds = 10 # Number of beds in the hospital                                                 #\n",
    "                                                                                              #\n",
    "# Probabilities of surviving the trip to another hospital                                     #\n",
    "probI = .8                                                                                    #\n",
    "probD = .4                                                                                     #\n",
    "###############################################################################################\n",
    "\n",
    "output = simulate(num_reps, num_beds, numPatients, ratio, peakI, peakD, probI, probD)"
   ]
  },
  {
   "cell_type": "markdown",
   "metadata": {},
   "source": [
    "It may be helpful to look at the distribution of our simulation results, run the cell below to get some \"box-and-whisker\" plots of our simulated data."
   ]
  },
  {
   "cell_type": "code",
   "execution_count": null,
   "metadata": {},
   "outputs": [],
   "source": [
    "xA, xB = np.random.normal(0, 0.04, num_reps), np.random.normal(0, 0, num_reps)\n",
    "\n",
    "plt.subplot(1,3,1)\n",
    "plt.violinplot(output[0:2])\n",
    "plt.scatter([[1]*num_reps + xA, [2]*num_reps] + xA, [output[0]+xB, output[1]+xB], alpha=0.2, s=10)\n",
    "plt.title('Deaths')\n",
    "plt.xticks([1, 2], ['FCFS', 'IO'])\n",
    "\n",
    "plt.subplot(1,3,2)\n",
    "plt.violinplot(output[2:4])\n",
    "plt.scatter([[1]*num_reps + xA, [2]*num_reps] + xA, [output[2]+xB, output[3]+xB], alpha=0.2, s=10)\n",
    "plt.title('Survivers')\n",
    "plt.xticks([1, 2], ['FCFS', 'IO'])\n",
    "\n",
    "plt.subplot(1,3,3)\n",
    "plt.violinplot(output[4:])\n",
    "plt.scatter([[1]*num_reps + xA, [2]*num_reps] + xA, [output[4]+xB, output[5]+xB], alpha=0.2, s=10)\n",
    "plt.title('Remaining Beds')\n",
    "plt.xticks([1, 2], ['FCFS', 'IO'])\n",
    "\n",
    "plt.show()"
   ]
  },
  {
   "cell_type": "code",
   "execution_count": null,
   "metadata": {},
   "outputs": [],
   "source": []
  }
 ],
 "metadata": {
  "kernelspec": {
   "display_name": "Python 3",
   "language": "python",
   "name": "python3"
  },
  "language_info": {
   "codemirror_mode": {
    "name": "ipython",
    "version": 3
   },
   "file_extension": ".py",
   "mimetype": "text/x-python",
   "name": "python",
   "nbconvert_exporter": "python",
   "pygments_lexer": "ipython3",
   "version": "3.6.7"
  }
 },
 "nbformat": 4,
 "nbformat_minor": 2
}
